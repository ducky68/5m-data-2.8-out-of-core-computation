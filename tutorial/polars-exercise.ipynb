{
 "cells": [
  {
   "cell_type": "markdown",
   "metadata": {},
   "source": [
    "# Real-World Polars Data Analysis Exercise\n",
    "\n",
    "## Overview\n",
    "Welcome to this comprehensive Polars data analysis exercise! You'll work as a data analyst for **Global Analytics Inc.**, a consulting firm that helps organizations make data-driven decisions. Your task is to analyze multiple real-world datasets to provide insights for different clients.\n",
    "\n",
    "**Note**: This exercise uses sample datasets that mirror the structure of real-world data from sources like Our World in Data (COVID-19), Yahoo Finance (stocks), retail transaction data, and World Bank (population data).\n",
    "\n",
    "## Business Scenarios\n",
    "\n",
    "### Scenario 1: Public Health Analysis for World Health Organization\n",
    "**Client**: World Health Organization (WHO)  \n",
    "**Dataset**: COVID-19 global data  \n",
    "**Business Question**: Analyze global COVID-19 pandemic trends to inform public health policy decisions.\n",
    "\n",
    "### Scenario 2: Investment Analysis for PrimeTech Capital\n",
    "**Client**: PrimeTech Capital (Investment Firm)  \n",
    "**Dataset**: Stock market data for major tech companies  \n",
    "**Business Question**: Evaluate technology stock performance to guide investment strategies.\n",
    "\n",
    "### Scenario 3: Retail Strategy for SuperMart Chain\n",
    "**Client**: SuperMart (Retail Chain)  \n",
    "**Dataset**: Sales transaction data  \n",
    "**Business Question**: Optimize product mix and identify growth opportunities.\n",
    "\n",
    "### Scenario 4: Market Research for GlobalTech Corp\n",
    "**Client**: GlobalTech Corp (Technology Company)  \n",
    "**Dataset**: Global population and demographic data  \n",
    "**Business Question**: Identify target markets for expansion based on population trends.\n",
    "\n",
    "---\n",
    "\n",
    "## Getting Started\n"
   ]
  },
  {
   "cell_type": "code",
   "execution_count": null,
   "metadata": {},
   "outputs": [],
   "source": [
    "import polars as pl\n",
    "import numpy as np\n",
    "from datetime import datetime\n",
    "\n",
    "# Load all datasets\n",
    "covid_df = pl.read_csv(\"covid_global_data.csv\")\n",
    "stocks_df = pl.read_csv(\"tech_stocks_data.csv\") \n",
    "sales_df = pl.read_csv(\"supermart_sales_data.csv\")\n",
    "population_df = pl.read_csv(\"global_population_data.csv\")\n",
    "company_df = pl.read_csv(\"company_info_data.csv\")"
   ]
  },
  {
   "cell_type": "markdown",
   "metadata": {},
   "source": [
    "---\n",
    "\n",
    "## PART 1: Data Exploration and Basic Operations\n",
    "\n",
    "### Exercise 1.1: Creating and Inspecting DataFrames\n",
    "\n",
    "**Business Context**: Before analyzing any dataset, you need to understand its structure and content.\n",
    "\n",
    "**Tasks**:\n",
    "1. Display the shape and basic info for each dataset\n",
    "2. Show the first 5 rows of each dataset\n",
    "3. Display column names and data types\n"
   ]
  },
  {
   "cell_type": "code",
   "execution_count": null,
   "metadata": {},
   "outputs": [],
   "source": [
    "# Your code here\n",
    "# Hint: Use .shape, .head(), .columns, .dtypes"
   ]
  },
  {
   "cell_type": "markdown",
   "metadata": {},
   "source": [
    "**Expected Functions**: Basic DataFrame inspection\n",
    "\n",
    "---\n",
    "\n",
    "### Exercise 1.2: Selecting Columns and Rows\n",
    "\n",
    "**Business Context**: You need to focus on specific data points for your analysis.\n",
    "\n",
    "**Tasks**:\n",
    "1. From the COVID dataset, select only 'date', 'country', and 'new_cases' columns\n",
    "2. From the stocks dataset, select columns whose names contain \"e\" (like 'date', 'close')\n",
    "3. Select the first 100 rows from the sales dataset\n",
    "4. Select rows 50-100 from the population dataset\n"
   ]
  },
  {
   "cell_type": "code",
   "execution_count": null,
   "metadata": {},
   "outputs": [],
   "source": [
    "# Your code here\n",
    "# Hint: Use .select(), pl.col(), .head(), .slice()"
   ]
  },
  {
   "cell_type": "markdown",
   "metadata": {},
   "source": [
    "**Expected Functions**: Column selection, row subsetting\n",
    "\n",
    "---\n",
    "\n",
    "## PART 2: Filtering and Subsetting Data\n",
    "\n",
    "### Exercise 2.1: Basic Filtering\n",
    "\n",
    "**Business Context**: WHO wants to focus on countries with significant COVID-19 impact.\n",
    "\n",
    "**Tasks**:\n",
    "1. Filter COVID data for countries with more than 1000 new cases on any single day\n",
    "2. Filter stock data for Apple (AAPL) only\n",
    "3. Filter sales data for Technology category products\n",
    "4. Filter population data for countries with more than 100 million people\n"
   ]
  },
  {
   "cell_type": "code",
   "execution_count": null,
   "metadata": {},
   "outputs": [],
   "source": [
    "# Your code here\n",
    "# Hint: Use .filter(), pl.col()"
   ]
  },
  {
   "cell_type": "markdown",
   "metadata": {},
   "source": [
    "**Expected Functions**: Filtering with conditions\n",
    "\n",
    "---\n",
    "\n",
    "### Exercise 2.2: Complex Filtering\n",
    "\n",
    "**Business Context**: PrimeTech Capital wants to identify high-volatility tech stocks.\n",
    "\n",
    "**Tasks**:\n",
    "1. Filter stock data where the daily price range (high - low) is greater than $10\n",
    "2. Filter COVID data for dates between \"2020-03-01\" and \"2020-06-01\"\n",
    "3. Filter sales data for orders with discount > 0.15 AND profit > 100\n",
    "4. Sample 500 random rows from the sales dataset\n"
   ]
  },
  {
   "cell_type": "code",
   "execution_count": null,
   "metadata": {},
   "outputs": [],
   "source": [
    "# Your code here\n",
    "# Hint: Use .filter() with multiple conditions, .sample()"
   ]
  },
  {
   "cell_type": "markdown",
   "metadata": {},
   "source": [
    "**Expected Functions**: Complex filtering, sampling\n",
    "\n",
    "---\n",
    "\n",
    "## PART 3: Grouping and Aggregation\n",
    "\n",
    "### Exercise 3.1: Basic Grouping\n",
    "\n",
    "**Business Context**: SuperMart wants to understand sales performance by different dimensions.\n",
    "\n",
    "**Tasks**:\n",
    "1. Group sales data by 'region' and calculate total sales\n",
    "2. Group COVID data by 'country' and find maximum daily cases\n",
    "3. Group stock data by 'symbol' and calculate average closing price\n",
    "4. Count the number of records in each population dataset by year\n"
   ]
  },
  {
   "cell_type": "code",
   "execution_count": null,
   "metadata": {},
   "outputs": [],
   "source": [
    "# Your code here\n",
    "# Hint: Use .group_by(), .agg(), pl.sum(), pl.max(), pl.mean(), pl.count()"
   ]
  },
  {
   "cell_type": "markdown",
   "metadata": {},
   "source": [
    "**Expected Functions**: Basic grouping and aggregation\n",
    "\n",
    "---\n",
    "\n",
    "### Exercise 3.2: Advanced Aggregations\n",
    "\n",
    "**Business Context**: WHO needs comprehensive statistics for their pandemic response.\n",
    "\n",
    "**Tasks**:\n",
    "1. For each country in COVID data, calculate:\n",
    "   - Total cases, maximum daily cases, average daily cases\n",
    "   - Standard deviation of daily cases, median daily cases\n",
    "2. For each stock symbol, calculate:\n",
    "   - Mean closing price, min/max prices, price volatility (std dev)\n",
    "3. For sales data by category, calculate:\n",
    "   - Total sales, total profit, average discount, profit margin\n"
   ]
  },
  {
   "cell_type": "code",
   "execution_count": null,
   "metadata": {},
   "outputs": [],
   "source": [
    "# Your code here\n",
    "# Hint: Use .agg() with multiple aggregation functions"
   ]
  },
  {
   "cell_type": "markdown",
   "metadata": {},
   "source": [
    "**Expected Functions**: Multiple aggregations, statistical functions\n",
    "\n",
    "---\n",
    "\n",
    "## PART 4: Time Series Analysis\n",
    "\n",
    "### Exercise 4.1: Date Operations\n",
    "\n",
    "**Business Context**: Analyzing trends over time requires proper date handling.\n",
    "\n",
    "**Tasks**:\n",
    "1. Convert date columns to datetime format in all relevant datasets\n",
    "2. Extract year, month, and day of week from COVID data dates\n",
    "3. Filter stock data for trading days in 2022 only\n",
    "4. Calculate the number of days between order_date and ship_date in sales data\n"
   ]
  },
  {
   "cell_type": "code",
   "execution_count": null,
   "metadata": {},
   "outputs": [],
   "source": [
    "# Your code here\n",
    "# Hint: Use pl.col().str.strptime(), .dt.year(), .dt.month(), .dt.weekday()"
   ]
  },
  {
   "cell_type": "markdown",
   "metadata": {},
   "source": [
    "**Expected Functions**: Date parsing and manipulation\n",
    "\n",
    "---\n",
    "\n",
    "### Exercise 4.2: Rolling Functions\n",
    "\n",
    "**Business Context**: PrimeTech Capital wants to smooth out stock price volatility with moving averages.\n",
    "\n",
    "**Tasks**:\n",
    "1. Calculate 7-day rolling average of new COVID cases for each country\n",
    "2. Calculate 30-day rolling average of stock closing prices for each symbol\n",
    "3. Calculate 7-day rolling maximum and minimum for stock prices\n",
    "4. Calculate 14-day rolling sum of sales by region\n"
   ]
  },
  {
   "cell_type": "code",
   "execution_count": null,
   "metadata": {},
   "outputs": [],
   "source": [
    "# Your code here\n",
    "# Hint: Use .rolling_mean(), .rolling_max(), .rolling_min(), .rolling_sum()"
   ]
  },
  {
   "cell_type": "markdown",
   "metadata": {},
   "source": [
    "**Expected Functions**: Rolling calculations\n",
    "\n",
    "---\n",
    "\n",
    "## PART 5: Window Functions\n",
    "\n",
    "### Exercise 5.1: Window Calculations\n",
    "\n",
    "**Business Context**: Compare performance within groups without losing individual records.\n",
    "\n",
    "**Tasks**:\n",
    "1. For each country, calculate the percentage of total global cases\n",
    "2. Rank stock symbols by their average closing price\n",
    "3. Calculate each region's share of total sales\n",
    "4. Find each customer's total spending and rank them\n"
   ]
  },
  {
   "cell_type": "code",
   "execution_count": null,
   "metadata": {},
   "outputs": [],
   "source": [
    "# Your code here\n",
    "# Hint: Use .over(), .rank(), window functions"
   ]
  },
  {
   "cell_type": "markdown",
   "metadata": {},
   "source": [
    "**Expected Functions**: Window functions, ranking\n",
    "\n",
    "---\n",
    "\n",
    "## PART 6: Handling Missing Data\n",
    "\n",
    "### Exercise 6.1: Missing Data Detection and Treatment\n",
    "\n",
    "**Business Context**: Real-world data often has missing values that need handling.\n",
    "\n",
    "**Tasks**:\n",
    "1. Find all missing values in each dataset\n",
    "2. Drop rows with any missing values from COVID data\n",
    "3. Fill missing population values with the forward fill strategy\n",
    "4. Replace missing values with the column mean for numeric columns\n"
   ]
  },
  {
   "cell_type": "code",
   "execution_count": null,
   "metadata": {},
   "outputs": [],
   "source": [
    "# Your code here\n",
    "# Hint: Use .drop_nulls(), .fill_null(), .is_null()"
   ]
  },
  {
   "cell_type": "markdown",
   "metadata": {},
   "source": [
    "**Expected Functions**: Missing data handling\n",
    "\n",
    "---\n",
    "\n",
    "## PART 7: Creating New Columns\n",
    "\n",
    "### Exercise 7.1: Column Transformations\n",
    "\n",
    "**Business Context**: Create new metrics and calculated fields for analysis.\n",
    "\n",
    "**Tasks**:\n",
    "1. Create a 'daily_volatility' column for stocks (high - low) / close\n",
    "2. Create a 'case_fatality_rate' column for COVID data (deaths/cases)\n",
    "3. Create a 'profit_margin' column for sales data (profit/sales)\n",
    "4. Add a row count column to identify each record\n"
   ]
  },
  {
   "cell_type": "code",
   "execution_count": null,
   "metadata": {},
   "outputs": [],
   "source": [
    "# Your code here\n",
    "# Hint: Use .with_columns(), arithmetic operations, .with_row_count()"
   ]
  },
  {
   "cell_type": "markdown",
   "metadata": {},
   "source": [
    "**Expected Functions**: Column creation and transformation\n",
    "\n",
    "---\n",
    "\n",
    "## PART 8: Reshaping Data\n",
    "\n",
    "### Exercise 8.1: Pivoting and Melting\n",
    "\n",
    "**Business Context**: Different analysis requires different data layouts.\n",
    "\n",
    "**Tasks**:\n",
    "1. Pivot COVID data to have countries as columns and dates as rows (for new_cases)\n",
    "2. Melt stock data to have 'price_type' (open, high, low, close) and 'price' columns\n",
    "3. Pivot sales data to show total sales by region and category\n",
    "4. Concatenate all stock data with company information\n"
   ]
  },
  {
   "cell_type": "code",
   "execution_count": null,
   "metadata": {},
   "outputs": [],
   "source": [
    "# Your code here\n",
    "# Hint: Use .pivot(), .melt(), pl.concat()"
   ]
  },
  {
   "cell_type": "markdown",
   "metadata": {},
   "source": [
    "**Expected Functions**: Data reshaping\n",
    "\n",
    "---\n",
    "\n",
    "## PART 9: Joining Datasets\n",
    "\n",
    "### Exercise 9.1: Data Joins\n",
    "\n",
    "**Business Context**: Combine datasets to get comprehensive insights.\n",
    "\n",
    "**Tasks**:\n",
    "1. Inner join stock data with company information on 'symbol'\n",
    "2. Left join sales data with a customer information table (you'll need to create a simple one)\n",
    "3. Anti join to find stocks that don't have company information\n",
    "4. Create a summary table by joining aggregated data from multiple sources\n"
   ]
  },
  {
   "cell_type": "code",
   "execution_count": null,
   "metadata": {},
   "outputs": [],
   "source": [
    "# Your code here\n",
    "# Hint: Use .join() with different how parameters: \"inner\", \"left\", \"anti\""
   ]
  },
  {
   "cell_type": "markdown",
   "metadata": {},
   "source": [
    "**Expected Functions**: Various types of joins\n",
    "\n",
    "---\n",
    "\n",
    "## PART 10: Advanced Analytics\n",
    "\n",
    "### Exercise 10.1: Business Intelligence Queries\n",
    "\n",
    "**Business Context**: Answer complex business questions that combine multiple techniques.\n",
    "\n",
    "**Tasks**:\n",
    "\n",
    "1. **COVID Impact Analysis**: Find the top 5 countries with the highest peak daily cases and their total death count\n",
    "\n",
    "2. **Stock Performance Ranking**: Rank tech stocks by their return (latest price vs first price) and volatility\n",
    "\n",
    "3. **Sales Trend Analysis**: Calculate month-over-month sales growth by region\n",
    "\n",
    "4. **Market Opportunity Analysis**: Identify countries with growing populations but low technology adoption (you'll need to create a proxy metric)\n"
   ]
  },
  {
   "cell_type": "code",
   "execution_count": null,
   "metadata": {},
   "outputs": [],
   "source": [
    "# Your code here\n",
    "# This requires combining multiple techniques learned above"
   ]
  },
  {
   "cell_type": "markdown",
   "metadata": {},
   "source": [
    "**Expected Functions**: Complex queries combining multiple operations\n",
    "\n",
    "---\n",
    "\n",
    "## PART 11: Final Challenge Project\n",
    "\n",
    "### Business Case: Multi-Client Analytics Dashboard\n",
    "\n",
    "**Scenario**: You need to create a comprehensive analytics summary for all four clients.\n",
    "\n",
    "**Deliverables**:\n",
    "1. **Executive Summary Table**: Key metrics for each dataset\n",
    "2. **Trend Analysis**: Monthly trends for all time series data\n",
    "3. **Performance Rankings**: Top performers in each category\n",
    "4. **Risk Assessment**: Identify volatile stocks, countries with concerning COVID trends\n",
    "5. **Growth Opportunities**: Regions/countries with best growth potential\n",
    "\n",
    "**Requirements**:\n",
    "- Use at least 10 different Polars functions\n",
    "- Join at least 2 datasets\n",
    "- Include rolling calculations\n",
    "- Handle missing data appropriately\n",
    "- Create meaningful new columns\n",
    "- Provide business insights with each analysis\n"
   ]
  },
  {
   "cell_type": "code",
   "execution_count": null,
   "metadata": {},
   "outputs": [],
   "source": [
    "# Your comprehensive solution here"
   ]
  },
  {
   "cell_type": "markdown",
   "metadata": {},
   "source": [
    "---\n",
    "\n",
    "## Function Reference Summary\n",
    "\n",
    "By completing this exercise, you will have practiced these Polars functions:\n",
    "\n",
    "**Data Loading & Inspection**:\n",
    "- `pl.read_csv()`, `.shape`, `.head()`, `.describe()`\n",
    "\n",
    "**Selecting & Subsetting**:\n",
    "- `.select()`, `pl.col()`, `.filter()`, `.sample()`, `.head()`, `.tail()`\n",
    "\n",
    "**Grouping & Aggregation**:\n",
    "- `.group_by()`, `.agg()`, `pl.sum()`, `pl.mean()`, `pl.max()`, `pl.min()`, `pl.count()`\n",
    "\n",
    "**Time Series**:\n",
    "- `.rolling_mean()`, `.rolling_max()`, `.rolling_sum()`, date operations\n",
    "\n",
    "**Window Functions**:\n",
    "- `.over()`, `.rank()`, window calculations\n",
    "\n",
    "**Missing Data**:\n",
    "- `.drop_nulls()`, `.fill_null()`, `.is_null()`\n",
    "\n",
    "**Column Operations**:\n",
    "- `.with_columns()`, `.with_row_count()`, `.rename()`, `.drop()`\n",
    "\n",
    "**Reshaping**:\n",
    "- `.pivot()`, `.melt()`, `pl.concat()`, `.sort()`\n",
    "\n",
    "**Joining**:\n",
    "- `.join()` with various modes (inner, left, outer, anti)\n",
    "\n",
    "---\n",
    "\n",
    "## Tips for Success\n",
    "\n",
    "1. **Start Simple**: Begin with basic operations before combining complex functions\n",
    "2. **Check Your Data**: Always inspect results to ensure they make business sense\n",
    "3. **Use Method Chaining**: Polars allows elegant chaining of operations\n",
    "4. **Handle Edge Cases**: Consider missing data and edge cases in your analysis\n",
    "5. **Document Your Work**: Add comments explaining your business logic\n",
    "\n",
    "Good luck with your analysis!"
   ]
  }
 ],
 "metadata": {
  "kernelspec": {
   "display_name": "Python 3",
   "language": "python",
   "name": "python3"
  },
  "language_info": {
   "name": "python",
   "version": "3.9"
  }
 },
 "nbformat": 4,
 "nbformat_minor": 2
}
